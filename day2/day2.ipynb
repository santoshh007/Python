{
 "cells": [
  {
   "cell_type": "code",
   "execution_count": 3,
   "metadata": {},
   "outputs": [
    {
     "name": "stdout",
     "output_type": "stream",
     "text": [
      "Data type of  10 is <class 'int'>\n"
     ]
    }
   ],
   "source": [
    "#setting the integer\n",
    "int_type = 10\n",
    "\n",
    "#verify  integer type\n",
    "print(\"Data type of \",int_type,\"is\",type(int_type))"
   ]
  },
  {
   "cell_type": "code",
   "execution_count": 4,
   "metadata": {},
   "outputs": [
    {
     "name": "stdout",
     "output_type": "stream",
     "text": [
      "Data type of 10.1 is <class 'float'>\n"
     ]
    }
   ],
   "source": [
    "#setting the float type\n",
    "float_type =10.1\n",
    "\n",
    "#verify float type \n",
    "print(\"Data type of\",float_type,\"is\",type(float_type))\n"
   ]
  },
  {
   "cell_type": "code",
   "execution_count": 5,
   "metadata": {},
   "outputs": [
    {
     "name": "stdout",
     "output_type": "stream",
     "text": [
      "Data type of (1+2j) is <class 'complex'>\n"
     ]
    }
   ],
   "source": [
    "#setting the complex type\n",
    "complex_type=1+2j\n",
    "\n",
    "#verify complex type\n",
    "print(\"Data type of\",complex_type,\"is\",type(complex_type))\n"
   ]
  }
 ],
 "metadata": {
  "kernelspec": {
   "display_name": "Python 3",
   "language": "python",
   "name": "python3"
  },
  "language_info": {
   "codemirror_mode": {
    "name": "ipython",
    "version": 3
   },
   "file_extension": ".py",
   "mimetype": "text/x-python",
   "name": "python",
   "nbconvert_exporter": "python",
   "pygments_lexer": "ipython3",
   "version": "3.10.12"
  }
 },
 "nbformat": 4,
 "nbformat_minor": 2
}
