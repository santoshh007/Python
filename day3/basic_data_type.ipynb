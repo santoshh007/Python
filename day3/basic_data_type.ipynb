{
 "cells": [
  {
   "cell_type": "markdown",
   "metadata": {
    "id": "pYAL7fboAZFn"
   },
   "source": [
    "## Python Data Types\n",
    "- Data Types refers to the classification of data values based on their characteristics.\n",
    "- Python Data Type means how Python represents different types of data.\n",
    "- **Categories**\n",
    "  1. `Basic Data Types`:\n",
    "    - They are fundamental Data Types provided by the language itself.\n",
    "    - Example: Integer, Float, Complex Numbers, Boolean, String\n",
    "\n",
    "  2. `Compound Data Types`:\n",
    "    - They are composed of multiple basic data types or other compound data types.\n",
    "    - Example: List, Tuple, Set, Dictionary, etc\n",
    "\n",
    "\n",
    "<img src='https://drive.google.com/uc?id=12s3_weoabmPHMpk3GNMjtgNxL5ngZCOj'>"
   ]
  },
  {
   "cell_type": "markdown",
   "metadata": {
    "id": "Oy2l2S6VD4Rx"
   },
   "source": [
    "## 1. Numbers in Python\n",
    "- Python has mainly 3 categories of numbers i.e.  \n",
    "  i. `Integer`: whole number (no decimal point). Can be postive or negative.  \n",
    "  ii. `Float`: Real Numbers. Includes decimal points or use exponential (e) to define numbers  \n",
    "  iii. `Complex`: Expressed as real and imaginary part i.e **a + jb**   \n",
    "  \n",
    "\n",
    "| Examples                 | Number \"Type\"        |\n",
    "|--------------------------|----------------------|\n",
    "| 1, 2, -5, 1000           | Integers             |\n",
    "| 1.2, -0.5, 2e2, 3E2     | Floating-point numbers |\n",
    "| 3+4j, -2j, 1+2j, -5-6j | Complex numbers      |\n"
   ]
  },
  {
   "cell_type": "markdown",
   "metadata": {
    "id": "FanG-i1syKvf"
   },
   "source": [
    "**NoneType**  \n",
    "- The `None` keyword is used to define a null value, or no value at all.\n",
    "- `Uses`: can be treated as placeholder object\n",
    "- None is not the same as 0, False, or an empty string.\n",
    "- None is a data type of its own NoneType, and only None can be None.\n"
   ]
  },
  {
   "cell_type": "code",
   "execution_count": 2,
   "metadata": {
    "id": "x_8rpt7uyy8L"
   },
   "outputs": [
    {
     "name": "stdout",
     "output_type": "stream",
     "text": [
      "None\n"
     ]
    }
   ],
   "source": [
    "# Uncomment below line and initialize variables  \"non_value\" to None\n",
    "\n",
    "non_value = None\n",
    "print(non_value)"
   ]
  },
  {
   "cell_type": "code",
   "execution_count": 3,
   "metadata": {
    "id": "PNYye5AEzFB3"
   },
   "outputs": [
    {
     "name": "stdout",
     "output_type": "stream",
     "text": [
      "<class 'int'>\n"
     ]
    }
   ],
   "source": [
    "# Get data type of variable \"non_value\" and\n",
    "non_value=50\n",
    "data_type =type(non_value)\n",
    "# print the result \n",
    "print(data_type)\n"
   ]
  },
  {
   "cell_type": "markdown",
   "metadata": {
    "id": "ZsEajcQikhWG"
   },
   "source": [
    "**Integer Type**"
   ]
  },
  {
   "cell_type": "code",
   "execution_count": 4,
   "metadata": {
    "id": "JfNBTTfQAQ1Z"
   },
   "outputs": [
    {
     "name": "stdout",
     "output_type": "stream",
     "text": [
      "5\n"
     ]
    }
   ],
   "source": [
    "# assign integer value 5 to variable named \"int_value\" and,\n",
    "\n",
    "int_value = 5  \n",
    "# None placeholder object \n",
    "\n",
    "# print the result\n",
    "print(int_value)"
   ]
  },
  {
   "cell_type": "code",
   "execution_count": 6,
   "metadata": {
    "id": "oElXcETmko5n"
   },
   "outputs": [
    {
     "name": "stdout",
     "output_type": "stream",
     "text": [
      "50\n"
     ]
    }
   ],
   "source": [
    "# Variable reassignment\n",
    "# assign new value 10 to same variable named \"int_value\" and,\n",
    "int_value = 10\n",
    "int_value=50\n",
    "# print the result\n",
    "print(int_value)\n"
   ]
  },
  {
   "cell_type": "markdown",
   "metadata": {
    "id": "ffI92aYllhQ_"
   },
   "source": [
    "We can see, Due to `Dynamic Typing` Python allows us to dynamically reassign the values assigned to the variables."
   ]
  },
  {
   "cell_type": "code",
   "execution_count": 7,
   "metadata": {
    "id": "tvyHWdhVp7zE"
   },
   "outputs": [
    {
     "data": {
      "text/plain": [
       "139732815299088"
      ]
     },
     "execution_count": 7,
     "metadata": {},
     "output_type": "execute_result"
    }
   ],
   "source": [
    "# Display id of variable \"int_value\"\n",
    "int_value=10\n",
    "# hint: id()\n",
    "id(int_value)"
   ]
  },
  {
   "cell_type": "code",
   "execution_count": 8,
   "metadata": {
    "id": "lnmIx0rylgeG"
   },
   "outputs": [
    {
     "name": "stdout",
     "output_type": "stream",
     "text": [
      "Data Type: None\n"
     ]
    }
   ],
   "source": [
    "# Display type of the variable \"int_value\"\n",
    "# use: type() function\n",
    "\n",
    "int_type = None\n",
    "print(\"Data Type:\", int_type)"
   ]
  },
  {
   "cell_type": "markdown",
   "metadata": {
    "id": "mLPGhMyJoW52"
   },
   "source": [
    "In output we can see, `Data Type: <class 'int'>`. It means when we create variables, we are actually creating object of that Data Type (Integer). So, in python everything is class and object."
   ]
  },
  {
   "cell_type": "code",
   "execution_count": 12,
   "metadata": {
    "id": "6E0OMShpoQlx"
   },
   "outputs": [
    {
     "ename": "TypeError",
     "evalue": "isinstance expected 2 arguments, got 0",
     "output_type": "error",
     "traceback": [
      "\u001b[0;31m---------------------------------------------------------------------------\u001b[0m",
      "\u001b[0;31mTypeError\u001b[0m                                 Traceback (most recent call last)",
      "Cell \u001b[0;32mIn[12], line 2\u001b[0m\n\u001b[1;32m      1\u001b[0m \u001b[38;5;66;03m# Verify integer type using isinstance() function\u001b[39;00m\n\u001b[0;32m----> 2\u001b[0m \u001b[38;5;28;43misinstance\u001b[39;49m\u001b[43m(\u001b[49m\u001b[43m)\u001b[49m\n\u001b[1;32m      3\u001b[0m \u001b[38;5;28misinstance\u001b[39m(santos,\u001b[38;5;241m100\u001b[39m)\n\u001b[1;32m      4\u001b[0m \u001b[38;5;66;03m# hint: isinstance(var_name, int)\u001b[39;00m\n",
      "\u001b[0;31mTypeError\u001b[0m: isinstance expected 2 arguments, got 0"
     ]
    }
   ],
   "source": [
    "# Verify integer type using isinstance() function\n",
    "isinstance()\n",
    "isinstance(santos,100)\n",
    "# hint: isinstance(var_name, int)\n",
    "print(isinstance)"
   ]
  },
  {
   "cell_type": "markdown",
   "metadata": {
    "id": "D8qNcUNmzskw"
   },
   "source": [
    "**Float Type**"
   ]
  },
  {
   "cell_type": "code",
   "execution_count": null,
   "metadata": {
    "id": "2Cr4hNwzpTzH"
   },
   "outputs": [],
   "source": [
    "# assign float value 2e1 to variable named \"float_value\"\n",
    "# print the result\n",
    "\n",
    "float_value = None"
   ]
  },
  {
   "cell_type": "code",
   "execution_count": null,
   "metadata": {
    "id": "W6QLPcJ837cJ"
   },
   "outputs": [],
   "source": [
    "# get variable data type and print the result\n"
   ]
  },
  {
   "cell_type": "code",
   "execution_count": null,
   "metadata": {
    "id": "rbuNAG-B4Ig7"
   },
   "outputs": [],
   "source": [
    "# verify float type using isinstance() function\n"
   ]
  },
  {
   "cell_type": "code",
   "execution_count": null,
   "metadata": {
    "id": "pWZj8Q354MXf"
   },
   "outputs": [],
   "source": [
    "# Display id of the variable \"float_value\"\n"
   ]
  },
  {
   "cell_type": "code",
   "execution_count": null,
   "metadata": {
    "id": "c-2VQFeT3lMd"
   },
   "outputs": [],
   "source": [
    "# variable reassignment\n",
    "#\n",
    "# assign new float value say 100.11 to same variable named \"float_value\" and,\n",
    "# print the result\n",
    "\n"
   ]
  },
  {
   "cell_type": "code",
   "execution_count": null,
   "metadata": {
    "id": "NyXSsqOr35iO"
   },
   "outputs": [],
   "source": [
    "# get variable data type and,\n",
    "# print the result\n"
   ]
  },
  {
   "cell_type": "code",
   "execution_count": null,
   "metadata": {
    "id": "CC9yg5cj4-BP"
   },
   "outputs": [],
   "source": [
    "# Display id of the variable \"float_value\" after variable reassignment\n"
   ]
  },
  {
   "cell_type": "markdown",
   "metadata": {
    "id": "xEWyIwgA5C39"
   },
   "source": [
    "As we can see, `id` changes after variable reassignment, since they point to different memory address after variable assignment by new value."
   ]
  },
  {
   "cell_type": "markdown",
   "metadata": {
    "id": "g0A15EG-6pOc"
   },
   "source": [
    "**Complex Type**\n",
    "- consist of real part and imaginary part: a + jb\n",
    "- E.g. \n"
   ]
  },
  {
   "cell_type": "code",
   "execution_count": null,
   "metadata": {
    "id": "VCJ8mvGb5bH-"
   },
   "outputs": [],
   "source": [
    "# assign complex number 2+jb to variable named \"complex_value\"\n",
    "# print the result\n",
    "\n",
    "complex_value = None"
   ]
  },
  {
   "cell_type": "code",
   "execution_count": null,
   "metadata": {
    "id": "8pG_o5n1vpS4"
   },
   "outputs": [],
   "source": [
    "# extract imaginary part and real part separately\n",
    "# hint: .real, .imag\n"
   ]
  },
  {
   "cell_type": "markdown",
   "metadata": {
    "id": "t5mxl9o_v4Fy"
   },
   "source": [
    "Optionally, you can see all the attributes and methods of the object using `dir()` built in function. \n",
    "\n",
    "Example: dir(complex_value)"
   ]
  },
  {
   "cell_type": "code",
   "execution_count": null,
   "metadata": {
    "id": "gotE2bNSwLid"
   },
   "outputs": [],
   "source": [
    "# list attributes and methods of complex object type\n",
    "# use dir() built in function\n"
   ]
  },
  {
   "cell_type": "code",
   "execution_count": null,
   "metadata": {
    "id": "GhteCe41wYf9"
   },
   "outputs": [],
   "source": [
    "# get complex variable data type and print the result\n"
   ]
  },
  {
   "cell_type": "markdown",
   "metadata": {
    "id": "qjAmq7eNyhjH"
   },
   "source": [
    "- **complex()**: \n",
    "  - function to create complex numbers with Integer/Float Type parameters.\n",
    "  - returns a complex numbers (real + imaginary) when real and imaginary parts are passed.\n",
    "  - Syntax: complex(real_part, imaginary_part)\n",
    "    - Example: complex(1, 2) --> 1+2j\n",
    "  - It can also converts a string to a complex number.\n",
    "    - If first argument is string, then second argument shouldn't be passed else will raise TypeError.\n",
    "      - e.g. complex(\"2\", \"3j\") --> False\n",
    "    - Also, string must not contain whitespace around + or - operator else it \n",
    "  will raise ValueError in Python.\n",
    "      - e.g. complex(\"3 + 2j\")\n",
    "\n",
    "\n",
    "  - `Exercise`\n",
    "    1. Create a complex number 0j. \n",
    "      - Hint: do not pass any arguments.\n",
    "    2. Create a complex number 2+3j using complex() function passing integer 2 and 3. Get the data type, and print the result.\n",
    "    3. Create a complex number 2+3j using complex() function passing string as argument. Get the data type and print the result.\n",
    "  \n",
    "\n"
   ]
  },
  {
   "cell_type": "code",
   "execution_count": null,
   "metadata": {
    "id": "QjQNQzT74eeS"
   },
   "outputs": [],
   "source": [
    "# 1. Create a complex number 0j. Get the Data Type and Print the result.\n"
   ]
  },
  {
   "cell_type": "code",
   "execution_count": null,
   "metadata": {
    "id": "7iK3BaUc04A6"
   },
   "outputs": [],
   "source": [
    "# 2. Create a complex number 2+3j using complex() function passing integer 2 and 3.\n"
   ]
  },
  {
   "cell_type": "code",
   "execution_count": null,
   "metadata": {
    "id": "aslgCBXz4lX6"
   },
   "outputs": [],
   "source": [
    "# 3. Create a complex number 2+3j using complex() function passing string as argument. Get the data type and print the result.\n"
   ]
  },
  {
   "cell_type": "markdown",
   "metadata": {
    "id": "CVO7asWr5Tbf"
   },
   "source": [
    "## 2. Boolean Type \n",
    "- Boolean Type holds one of 2 values `True` or `False`.\n",
    "- Case sensitive: True != true  or  False != false\n",
    "- Output of listed operators are of Boolean Type\n",
    "  - `Comparison Operators (7 == 7)`\n",
    "  - `Logical Operators (not(1<5))`\n",
    "  - `Identity Operators (x is y)`\n"
   ]
  },
  {
   "cell_type": "code",
   "execution_count": null,
   "metadata": {
    "id": "M2saNcKI5S8e"
   },
   "outputs": [],
   "source": [
    "# create a variable of boolean type named \"bool_val\"\n",
    "bool_val = None"
   ]
  },
  {
   "cell_type": "code",
   "execution_count": null,
   "metadata": {
    "id": "AoyKbXctF1zN"
   },
   "outputs": [],
   "source": [
    "# get the type of boolean variable \n"
   ]
  },
  {
   "cell_type": "markdown",
   "metadata": {
    "id": "r0QNslZTHLrU"
   },
   "source": [
    "**Most values are True**  \n",
    "- Any number is True (+ve, -ve) except 0.\n",
    "- Any string is True, except empty string.\n",
    "- Any list, tuple, set, and dictionary are True, except empty ones.\n",
    "\n",
    "You can use **bool()** function to evaluate any values, that returns `True` or `False`"
   ]
  },
  {
   "cell_type": "code",
   "execution_count": null,
   "metadata": {
    "id": "m_0dc_EFGOO6"
   },
   "outputs": [],
   "source": [
    "# Evaluate using bool() for \n",
    "# 1. any non zero integer, float \n",
    "# 2. any non empty string\n",
    "#\n",
    "# Hint: bool(value)\n"
   ]
  },
  {
   "cell_type": "markdown",
   "metadata": {
    "id": "_wUTCL1yII3E"
   },
   "source": [
    "**Some values are False**  \n",
    "- number `0 or 0.0` evaluates to False\n",
    "- Value `None` evaluates to False\n",
    "- False `evaluates` to False\n",
    "- empty string `\"\"` evaluates to False\n",
    "- Empty values, `(), [], {}`, evaluates to False"
   ]
  },
  {
   "cell_type": "code",
   "execution_count": null,
   "metadata": {
    "id": "VC7b59BrIFOo"
   },
   "outputs": [],
   "source": [
    "# Experiment above cases with bool() function\n",
    "print(bool(0))\n",
    "print(bool(0.0))\n"
   ]
  },
  {
   "cell_type": "markdown",
   "metadata": {
    "id": "8_wI-iTnGMsQ"
   },
   "source": [
    "**Python Conditions quick intro**\n",
    "\n",
    "Q. Write a python program to get two inputs a and b from user and print message\n",
    "  - \"a is greater than b\" if a > b\n",
    "  - \"a is equal to b\" if a = b\n",
    "  - \"a is less than b\" if a < b"
   ]
  },
  {
   "cell_type": "code",
   "execution_count": null,
   "metadata": {
    "id": "IR7jwGZ0GLTt"
   },
   "outputs": [],
   "source": [
    "## write your program here\n"
   ]
  },
  {
   "cell_type": "markdown",
   "metadata": {
    "id": "Sb4A71K7OfkA"
   },
   "source": [
    "**Given a = 10 and b = 20, what is the output of a and b?** Why?"
   ]
  }
 ],
 "metadata": {
  "colab": {
   "authorship_tag": "ABX9TyPP1eO9Dg2ZoPtd204dqOE0",
   "provenance": []
  },
  "kernelspec": {
   "display_name": "Python 3 (ipykernel)",
   "language": "python",
   "name": "python3"
  },
  "language_info": {
   "codemirror_mode": {
    "name": "ipython",
    "version": 3
   },
   "file_extension": ".py",
   "mimetype": "text/x-python",
   "name": "python",
   "nbconvert_exporter": "python",
   "pygments_lexer": "ipython3",
   "version": "3.10.12"
  }
 },
 "nbformat": 4,
 "nbformat_minor": 4
}
